{
 "cells": [
  {
   "cell_type": "markdown",
   "id": "33aa53cd",
   "metadata": {},
   "source": [
    "# Heating Loads & Heat Pumps in Alaska"
   ]
  },
  {
   "cell_type": "markdown",
   "id": "0c3e8a97",
   "metadata": {},
   "source": [
    "## Background\n",
    "\n",
    "### Hopefully we can catch you all up to the point where you can easily understand the following image. Don't worry we'll come back to it.\n",
    "\n",
    "![](https://www.mdpi.com/sustainability/sustainability-15-01880/article_deploy/html/images/sustainability-15-01880-g004.png)"
   ]
  },
  {
   "cell_type": "markdown",
   "id": "07820bb8",
   "metadata": {},
   "source": [
    "### Weather in Alaska: It's cold, but how just how cold it gets is variable\n",
    "\n",
    "\n",
    "![](https://statesummaries.ncics.org/img/styles/ak-figure-2-1200@2x.png)\n",
    "\n",
    "\n",
    "![](https://statesummaries.ncics.org/img/styles/ak-figure-3a-1200@2x.png)"
   ]
  },
  {
   "cell_type": "markdown",
   "id": "2dc30891",
   "metadata": {},
   "source": [
    "### But how does weather relate to heat pumps?\n",
    "\n",
    "Heat pumps have a low temperature cut off. Ranges from 5 degrees F to -25 degrees F"
   ]
  },
  {
   "cell_type": "markdown",
   "id": "190417b5",
   "metadata": {},
   "source": [
    "<img src=\"heatpump_demand.png\" alt=\"Alternative text\" />"
   ]
  },
  {
   "cell_type": "markdown",
   "id": "305918ae",
   "metadata": {},
   "source": [
    "### Vocabulary Time! Yay!\n",
    "\n",
    "**Heat Pump**\n",
    "\n",
    "**HSPF**\n",
    "\n",
    "**COP**"
   ]
  },
  {
   "cell_type": "markdown",
   "id": "f00cc4fc",
   "metadata": {},
   "source": [
    "<img src=\"manu_vs_obs.png\" alt=\"Alternative text\" />"
   ]
  },
  {
   "cell_type": "markdown",
   "id": "c610da30",
   "metadata": {},
   "source": [
    "<img src=\"cop_curve.png\" alt=\"Alternative text\" />"
   ]
  },
  {
   "cell_type": "markdown",
   "id": "3784b77d",
   "metadata": {},
   "source": [
    "### Utilities\n",
    "\n",
    "<img src=\"ce_by_fuel_type.png\" alt=\"Alternative text\" />\n",
    "\n",
    "<img src=\"load_by_sqft.png\" alt=\"Alternative text\" />"
   ]
  },
  {
   "cell_type": "markdown",
   "id": "4589490e",
   "metadata": {},
   "source": [
    "## What we've done\n",
    "\n",
    "### 1. Code Review\n",
    "\n",
    "\n",
    "### 2. Two Stakeholder Interviews"
   ]
  },
  {
   "cell_type": "code",
   "execution_count": null,
   "id": "d50a2ab6",
   "metadata": {},
   "outputs": [],
   "source": []
  },
  {
   "cell_type": "markdown",
   "id": "28865c54",
   "metadata": {},
   "source": [
    "## Questions we have\n",
    "\n",
    "### Scope\n",
    "Where in Alaska? Considerations for population density. Considerations for temperature. Considerations for current dominant fuel source.\n",
    "\n",
    "### Audience\n",
    "Policymakers? AK residents? Heat pump installers and maintainers? Researchers?\n",
    "\n",
    "### Type of Visualization\n",
    "Static vs Interactive vs moving viz captured in a video. Many visualizations? Just one?"
   ]
  },
  {
   "cell_type": "code",
   "execution_count": null,
   "id": "c0da308d",
   "metadata": {},
   "outputs": [],
   "source": []
  }
 ],
 "metadata": {
  "kernelspec": {
   "display_name": "Python 3 (ipykernel)",
   "language": "python",
   "name": "python3"
  },
  "language_info": {
   "codemirror_mode": {
    "name": "ipython",
    "version": 3
   },
   "file_extension": ".py",
   "mimetype": "text/x-python",
   "name": "python",
   "nbconvert_exporter": "python",
   "pygments_lexer": "ipython3",
   "version": "3.10.8"
  }
 },
 "nbformat": 4,
 "nbformat_minor": 5
}
